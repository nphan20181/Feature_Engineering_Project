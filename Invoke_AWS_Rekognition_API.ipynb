{
 "cells": [
  {
   "cell_type": "code",
   "execution_count": 12,
   "id": "66d569c6",
   "metadata": {},
   "outputs": [],
   "source": [
    "import boto3"
   ]
  },
  {
   "cell_type": "code",
   "execution_count": 13,
   "id": "b898bb0b",
   "metadata": {},
   "outputs": [],
   "source": [
    "# rekognition = boto3.client(\"rekognition\", \"us-east-1\")"
   ]
  },
  {
   "cell_type": "code",
   "execution_count": 14,
   "id": "c57deeea",
   "metadata": {},
   "outputs": [],
   "source": [
    "rekognition = boto3.client(\n",
    "    'rekognition',\n",
    "    aws_access_key_id='----',\n",
    "    aws_secret_access_key='----',\n",
    "    aws_session_token='----'\n",
    ")"
   ]
  },
  {
   "cell_type": "code",
   "execution_count": 15,
   "id": "828b1913",
   "metadata": {},
   "outputs": [],
   "source": [
    "import os\n",
    "\n",
    "with open(os.path.join('flower1.jpg'), 'rb') as image_data:\n",
    "        response_content = image_data.read()\n",
    "        rekognition_response = rekognition.detect_labels(Image={'Bytes':response_content})"
   ]
  },
  {
   "cell_type": "code",
   "execution_count": 11,
   "id": "b928797c",
   "metadata": {},
   "outputs": [
    {
     "data": {
      "text/plain": [
       "{'Labels': [{'Name': 'Plant',\n",
       "   'Confidence': 99.70489501953125,\n",
       "   'Instances': [{'BoundingBox': {'Width': 0.8668731451034546,\n",
       "      'Height': 0.8615646958351135,\n",
       "      'Left': 0.07573075592517853,\n",
       "      'Top': 0.07832533866167068},\n",
       "     'Confidence': 59.97138977050781}],\n",
       "   'Parents': []},\n",
       "  {'Name': 'Daisy',\n",
       "   'Confidence': 98.83956146240234,\n",
       "   'Instances': [],\n",
       "   'Parents': [{'Name': 'Flower'}, {'Name': 'Plant'}]},\n",
       "  {'Name': 'Daisies',\n",
       "   'Confidence': 98.83956146240234,\n",
       "   'Instances': [],\n",
       "   'Parents': [{'Name': 'Flower'}, {'Name': 'Plant'}]},\n",
       "  {'Name': 'Flower',\n",
       "   'Confidence': 98.83956146240234,\n",
       "   'Instances': [],\n",
       "   'Parents': [{'Name': 'Plant'}]},\n",
       "  {'Name': 'Blossom',\n",
       "   'Confidence': 98.83956146240234,\n",
       "   'Instances': [],\n",
       "   'Parents': [{'Name': 'Plant'}]},\n",
       "  {'Name': 'Anther',\n",
       "   'Confidence': 91.57262420654297,\n",
       "   'Instances': [],\n",
       "   'Parents': [{'Name': 'Flower'}, {'Name': 'Plant'}]},\n",
       "  {'Name': 'Petal',\n",
       "   'Confidence': 91.24296569824219,\n",
       "   'Instances': [],\n",
       "   'Parents': [{'Name': 'Flower'}, {'Name': 'Plant'}]},\n",
       "  {'Name': 'Anemone',\n",
       "   'Confidence': 81.62101745605469,\n",
       "   'Instances': [],\n",
       "   'Parents': [{'Name': 'Flower'}, {'Name': 'Plant'}]},\n",
       "  {'Name': 'Pollen',\n",
       "   'Confidence': 71.24862670898438,\n",
       "   'Instances': [],\n",
       "   'Parents': [{'Name': 'Plant'}]},\n",
       "  {'Name': 'Photography',\n",
       "   'Confidence': 67.91087341308594,\n",
       "   'Instances': [],\n",
       "   'Parents': []},\n",
       "  {'Name': 'Photo',\n",
       "   'Confidence': 67.91087341308594,\n",
       "   'Instances': [],\n",
       "   'Parents': []},\n",
       "  {'Name': 'Dahlia',\n",
       "   'Confidence': 64.58143615722656,\n",
       "   'Instances': [],\n",
       "   'Parents': [{'Name': 'Flower'}, {'Name': 'Plant'}]}],\n",
       " 'LabelModelVersion': '2.0',\n",
       " 'ResponseMetadata': {'RequestId': '04d00ae7-de79-4eca-bd9f-9bfd4d29e0ce',\n",
       "  'HTTPStatusCode': 200,\n",
       "  'HTTPHeaders': {'x-amzn-requestid': '04d00ae7-de79-4eca-bd9f-9bfd4d29e0ce',\n",
       "   'content-type': 'application/x-amz-json-1.1',\n",
       "   'content-length': '1374',\n",
       "   'date': 'Thu, 11 Nov 2021 04:30:00 GMT'},\n",
       "  'RetryAttempts': 0}}"
      ]
     },
     "execution_count": 11,
     "metadata": {},
     "output_type": "execute_result"
    }
   ],
   "source": [
    "rekognition_response"
   ]
  },
  {
   "cell_type": "code",
   "execution_count": null,
   "id": "63c3965c",
   "metadata": {},
   "outputs": [],
   "source": []
  }
 ],
 "metadata": {
  "kernelspec": {
   "display_name": "Python 3 (ipykernel)",
   "language": "python",
   "name": "python3"
  },
  "language_info": {
   "codemirror_mode": {
    "name": "ipython",
    "version": 3
   },
   "file_extension": ".py",
   "mimetype": "text/x-python",
   "name": "python",
   "nbconvert_exporter": "python",
   "pygments_lexer": "ipython3",
   "version": "3.8.8"
  }
 },
 "nbformat": 4,
 "nbformat_minor": 5
}
